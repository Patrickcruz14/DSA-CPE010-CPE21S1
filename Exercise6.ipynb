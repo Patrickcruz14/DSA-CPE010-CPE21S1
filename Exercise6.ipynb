{
  "nbformat": 4,
  "nbformat_minor": 0,
  "metadata": {
    "colab": {
      "provenance": [],
      "toc_visible": true,
      "authorship_tag": "ABX9TyPOzl1MaNf0Bcfzt0XraXkC",
      "include_colab_link": true
    },
    "kernelspec": {
      "name": "python3",
      "display_name": "Python 3"
    },
    "language_info": {
      "name": "python"
    }
  },
  "cells": [
    {
      "cell_type": "markdown",
      "metadata": {
        "id": "view-in-github",
        "colab_type": "text"
      },
      "source": [
        "<a href=\"https://colab.research.google.com/github/Patrickcruz14/DSA-CPE010-CPE21S1/blob/main/Exercise6.ipynb\" target=\"_parent\"><img src=\"https://colab.research.google.com/assets/colab-badge.svg\" alt=\"Open In Colab\"/></a>"
      ]
    },
    {
      "cell_type": "code",
      "execution_count": 2,
      "metadata": {
        "colab": {
          "base_uri": "https://localhost:8080/",
          "height": 108
        },
        "id": "orsnI5SzU1wu",
        "outputId": "46d82217-d74c-4638-cd45-94c529dc6564"
      },
      "outputs": [
        {
          "output_type": "error",
          "ename": "SyntaxError",
          "evalue": "invalid syntax (<ipython-input-2-0298c2e2090a>, line 1)",
          "traceback": [
            "\u001b[0;36m  File \u001b[0;32m\"<ipython-input-2-0298c2e2090a>\"\u001b[0;36m, line \u001b[0;32m1\u001b[0m\n\u001b[0;31m    // Online C++ compiler to run C++ program online\u001b[0m\n\u001b[0m    ^\u001b[0m\n\u001b[0;31mSyntaxError\u001b[0m\u001b[0;31m:\u001b[0m invalid syntax\n"
          ]
        }
      ],
      "source": [
        "// Online C++ compiler to run C++ program online\n",
        "#include <iostream>\n",
        "#include <queue>\n",
        "using namespace std;\n",
        "void display(queue<string>pl) {\n",
        " while(!pl.empty()) {\n",
        " cout<<pl.front()<<endl;\n",
        " pl.pop();\n",
        " };\n",
        "};\n",
        "\n",
        "int main() {\n",
        "    queue<string>pl;\n",
        "    pl.push(\" c++ \");\n",
        "    pl.push(\" java \");\n",
        "    pl.push(\" python \");\n",
        "    cout<<\"Initial queue; \"<<endl;\n",
        "    display (pl);\n",
        "    cout<<endl;\n",
        "    pl.pop();\n",
        "    pl.pop();\n",
        "    cout<<\"final queue: \\n\";\n",
        "    display(pl);\n",
        "    return 0;\n",
        "}\n"
      ]
    }
  ]
}