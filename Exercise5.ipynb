{
  "nbformat": 4,
  "nbformat_minor": 0,
  "metadata": {
    "colab": {
      "provenance": [],
      "authorship_tag": "ABX9TyNQoYzghUu5r0tkYePpFsIX",
      "include_colab_link": true
    },
    "kernelspec": {
      "name": "python3",
      "display_name": "Python 3"
    },
    "language_info": {
      "name": "python"
    }
  },
  "cells": [
    {
      "cell_type": "markdown",
      "metadata": {
        "id": "view-in-github",
        "colab_type": "text"
      },
      "source": [
        "<a href=\"https://colab.research.google.com/github/Patrickcruz14/DSA-CPE010-CPE21S1/blob/main/Exercise5.ipynb\" target=\"_parent\"><img src=\"https://colab.research.google.com/assets/colab-badge.svg\" alt=\"Open In Colab\"/></a>"
      ]
    },
    {
      "cell_type": "code",
      "execution_count": 3,
      "metadata": {
        "colab": {
          "base_uri": "https://localhost:8080/",
          "height": 35
        },
        "id": "j2HWdWN7bIJb",
        "outputId": "5e1ddb8b-9c27-42aa-fd22-fcea30fa7262"
      },
      "outputs": [
        {
          "output_type": "execute_result",
          "data": {
            "text/plain": [
              "'f'"
            ],
            "application/vnd.google.colaboratory.intrinsic+json": {
              "type": "string"
            }
          },
          "metadata": {},
          "execution_count": 3
        }
      ],
      "source": [
        "import array\n",
        "\n",
        "array.typecodes\n",
        "a = array.array('i',[1,2,3,4,5,6])\n",
        "b = array.array('f',[1.5,2.5,3.5,4.5,5.5,6.5])\n",
        "a.typecode\n",
        "b.typecode"
      ]
    },
    {
      "cell_type": "code",
      "source": [
        "import array\n",
        "a = array.array('i',[4,5,6,7])\n",
        "a.insert(1,2)\n",
        "a\n",
        "a.insert(-1,0)\n",
        "a\n",
        "a.insert(10,-1)\n",
        "a"
      ],
      "metadata": {
        "colab": {
          "base_uri": "https://localhost:8080/"
        },
        "id": "NBG_espqcCLF",
        "outputId": "8687a59b-1180-4e24-b8f2-27eaf2b0f644"
      },
      "execution_count": 10,
      "outputs": [
        {
          "output_type": "execute_result",
          "data": {
            "text/plain": [
              "array('i', [4, 2, 5, 6, 0, 7, -1])"
            ]
          },
          "metadata": {},
          "execution_count": 10
        }
      ]
    },
    {
      "cell_type": "code",
      "source": [
        "class Node:\n",
        "    def __init__(self,data):\n",
        "        self.data = data\n",
        "        self.next = None\n",
        "\n",
        "class LinkedList:\n",
        "    def __init__(self):\n",
        "        self.head = None\n",
        "\n",
        "if __name__=='__main__':\n",
        "    llist = LinkedList()\n",
        "    llist.head = Node(1)\n",
        "    second = Node(2)\n",
        "    third = Node(3)\n",
        "    llist.head.next = second\n",
        "    second.next = third\n",
        "\n",
        "    def printdata(self):\n",
        "        temp = self.head\n",
        "        while (temp):\n",
        "            print(temp.data)\n",
        "            temp = temp.next\n",
        "\n",
        "    printdata(llist)"
      ],
      "metadata": {
        "colab": {
          "base_uri": "https://localhost:8080/"
        },
        "id": "CFCnaSfheI2C",
        "outputId": "f94b3a11-704f-4c2b-c12f-de72211d2967"
      },
      "execution_count": 18,
      "outputs": [
        {
          "output_type": "stream",
          "name": "stdout",
          "text": [
            "1\n",
            "2\n",
            "3\n"
          ]
        }
      ]
    },
    {
      "cell_type": "code",
      "source": [
        "#include <iostream>\n",
        "using namespace std;\n",
        "\n",
        "// Creating a node\n",
        "class Node {\n",
        "public:\n",
        "\tint value;\n",
        "\tNode* Next;\n",
        "};\n",
        "\n",
        "int main() {\n",
        "\tNode* head;\n",
        "\tNode* one = NULL;\n",
        "\tNode* two = NULL;\n",
        "\tNode* three = NULL;\n",
        "\n",
        "\t//allocate 3 nodes in the heap\n",
        "\tone = new Node();\n",
        "\ttwo = new Node();\n",
        "\tthree = new Node();\n",
        "\n",
        "\t// Assign Value values\n",
        "\tone -> value = 1;\n",
        "\ttwo -> value = 2;\n",
        "\tthree -> value = 3;\n",
        "\n",
        "\t// connect  nodes\n",
        "\tone -> Next = two;\n",
        "\ttwo -> Next = three;\n",
        "\tthree -> Next = NULL;\n",
        "\n",
        "\t//print the linked list value\n",
        "\thead = one;\n",
        "\twhile(head != NULL) {\n",
        "\t\tcout << head -> value;\n",
        "\t\thead = head -> Next;\n",
        "\t}\n",
        "\treturn 0;\n",
        "}"
      ],
      "metadata": {
        "colab": {
          "base_uri": "https://localhost:8080/",
          "height": 108
        },
        "id": "-womaluLe3Kx",
        "outputId": "b7dd05ae-662d-4043-9a88-8dec587ba742"
      },
      "execution_count": 19,
      "outputs": [
        {
          "output_type": "error",
          "ename": "SyntaxError",
          "evalue": "invalid syntax (<ipython-input-19-7c3da3595513>, line 2)",
          "traceback": [
            "\u001b[0;36m  File \u001b[0;32m\"<ipython-input-19-7c3da3595513>\"\u001b[0;36m, line \u001b[0;32m2\u001b[0m\n\u001b[0;31m    using namespace std;\u001b[0m\n\u001b[0m          ^\u001b[0m\n\u001b[0;31mSyntaxError\u001b[0m\u001b[0;31m:\u001b[0m invalid syntax\n"
          ]
        }
      ]
    },
    {
      "cell_type": "code",
      "source": [],
      "metadata": {
        "id": "jRxL2SXYqByr"
      },
      "execution_count": null,
      "outputs": []
    },
    {
      "cell_type": "code",
      "source": [],
      "metadata": {
        "id": "mUBPie5Se3L5"
      },
      "execution_count": null,
      "outputs": []
    }
  ]
}