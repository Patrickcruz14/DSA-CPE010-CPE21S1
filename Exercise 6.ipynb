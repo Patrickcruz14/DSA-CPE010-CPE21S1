{
  "cells": [
    {
      "cell_type": "markdown",
      "metadata": {
        "id": "view-in-github",
        "colab_type": "text"
      },
      "source": [
        "<a href=\"https://colab.research.google.com/github/Patrickcruz14/DSA-CPE010-CPE21S1/blob/main/Exercise%206.ipynb\" target=\"_parent\"><img src=\"https://colab.research.google.com/assets/colab-badge.svg\" alt=\"Open In Colab\"/></a>"
      ]
    },
    {
      "cell_type": "code",
      "source": [
        "#include <iostream>\n",
        "#include <queue>\n",
        "using namespace std;\n",
        "\n",
        "// Display function that accepts the queue by value (it can be left as is)\n",
        "void display(queue<string> pl) {\n",
        "    while (!pl.empty()) {\n",
        "        cout << pl.front() << endl;\n",
        "        pl.pop();  // Pops elements from the copy, not the original queue\n",
        "    }\n",
        "}\n",
        "\n",
        "int main() {\n",
        "    queue<string> pl;\n",
        "\n",
        "    // Pushing elements into the queue\n",
        "    pl.push(\"C++\");\n",
        "    pl.push(\"Java\");\n",
        "    pl.push(\"Python\");\n",
        "\n",
        "    cout << \"Initial queue:\" << endl;\n",
        "    display(pl);  // Displaying the initial queue\n",
        "\n",
        "    cout << endl;\n",
        "\n",
        "    // Popping two elements from the original queue\n",
        "    pl.pop();\n",
        "    pl.pop();\n",
        "\n",
        "    cout << \"Final queue: \\n\";\n",
        "    display(pl);  // Displaying the final queue after popping\n",
        "\n",
        "    return 0;\n",
        "}\n"
      ],
      "metadata": {
        "id": "We2yt5-eCUNV"
      },
      "execution_count": null,
      "outputs": []
    }
  ],
  "metadata": {
    "colab": {
      "name": "Welcome To Colab",
      "toc_visible": true,
      "provenance": [],
      "include_colab_link": true
    },
    "kernelspec": {
      "display_name": "Python 3",
      "name": "python3"
    }
  },
  "nbformat": 4,
  "nbformat_minor": 0
}