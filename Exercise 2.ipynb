{
  "cells": [
    {
      "cell_type": "markdown",
      "metadata": {
        "id": "view-in-github",
        "colab_type": "text"
      },
      "source": [
        "<a href=\"https://colab.research.google.com/github/Patrickcruz14/DSA-CPE010-CPE21S1/blob/main/Exercise%202.ipynb\" target=\"_parent\"><img src=\"https://colab.research.google.com/assets/colab-badge.svg\" alt=\"Open In Colab\"/></a>"
      ]
    },
    {
      "cell_type": "code",
      "source": [
        "class Shape:\n",
        "    def calculate_area(self):\n",
        "        raise NotImplementedError(\"Subclasses need to define this\")\n",
        "\n",
        "    def show_area(self):\n",
        "        print(f\"The area of the {self.__class__.__name__.lower()} is {self.calculate_area()} square units\")\n",
        "\n",
        "class Rectangle(Shape):\n",
        "    def __init__(self, length=1.0, width=1.0):\n",
        "        self.length = length\n",
        "        self.width = width\n",
        "\n",
        "    def calculate_area(self):\n",
        "        return round(self.length * self.width, 2)\n",
        "\n",
        "    def show_area(self):\n",
        "        print(f\"Rectangle: Length = {self.length}, Width = {self.width}, Area = {self.calculate_area()} square units\")\n",
        "\n",
        "class Triangle(Shape):\n",
        "    def __init__(self, base=1.0, height=1.0):\n",
        "        self.base = base\n",
        "        self.height = height\n",
        "\n",
        "    def calculate_area(self):\n",
        "        return round(0.5 * self.base * self.height, 2)\n",
        "\n",
        "    def show_area(self):\n",
        "        print(f\"Triangle: Base = {self.base}, Height = {self.height}, Area = {self.calculate_area()} square units\")\n",
        "\n",
        "class Square(Rectangle):\n",
        "    def __init__(self, side=1.0):\n",
        "        super().__init__(length=side, width=side)\n",
        "\n",
        "    def show_area(self):\n",
        "        print(f\"Square: Side = {self.length}, Area = {self.calculate_area()} square units\")\n",
        "\n",
        "def main():\n",
        "    shape_type = input(\"Enter the shape type (rectangle, triangle, square): \").strip().lower()\n",
        "\n",
        "    if shape_type == 'rectangle':\n",
        "        length = float(input(\"Enter the length of the rectangle: \"))\n",
        "        width = float(input(\"Enter the width of the rectangle: \"))\n",
        "        shape = Rectangle(length, width)\n",
        "\n",
        "    elif shape_type == 'triangle':\n",
        "        base = float(input(\"Enter the base of the triangle: \"))\n",
        "        height = float(input(\"Enter the height of the triangle: \"))\n",
        "        shape = Triangle(base, height)\n",
        "\n",
        "    elif shape_type == 'square':\n",
        "        side = float(input(\"Enter the side length of the square: \"))\n",
        "        shape = Square(side)\n",
        "\n",
        "    else:\n",
        "        print(\"Invalid shape type! Please enter 'rectangle', 'triangle', or 'square'.\")\n",
        "        return\n",
        "\n",
        "    shape.show_area()\n",
        "\n",
        "if __name__ == \"__main__\":\n",
        "    main()\n"
      ],
      "metadata": {
        "id": "Ya08kRRrb8Mm"
      },
      "execution_count": null,
      "outputs": []
    }
  ],
  "metadata": {
    "colab": {
      "name": "Welcome To Colab",
      "toc_visible": true,
      "provenance": [],
      "include_colab_link": true
    },
    "kernelspec": {
      "display_name": "Python 3",
      "name": "python3"
    }
  },
  "nbformat": 4,
  "nbformat_minor": 0
}