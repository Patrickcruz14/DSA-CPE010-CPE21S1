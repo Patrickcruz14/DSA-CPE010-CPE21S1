// Online C++ compiler to run C++ program online
#include <iostream>
#include <queue>
using namespace std;
void display(queue<string>pl) {
 while(!pl.empty()) {
 cout<<pl.front()<<endl;
 pl.pop();
 };
};

int main() {
    queue<string>pl;
    pl.push(" c++ ");
    pl.push(" java ");
    pl.push(" python ");
    cout<<"Initial queue; "<<endl; 
    display (pl);
    cout<<endl;
    pl.pop();
    pl.pop();
    cout<<"final queue: \n";
    display(pl);
    return 0; 
}
