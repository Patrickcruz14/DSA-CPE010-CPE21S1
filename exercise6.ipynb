#include <iostream>
#include <queue>
using namespace std;

// Display function that accepts the queue by value (it can be left as is)
void display(queue<string> pl) {
    while (!pl.empty()) {
        cout << pl.front() << endl;
        pl.pop();  // Pops elements from the copy, not the original queue
    }
}

int main() {
    queue<string> pl;

    // Pushing elements into the queue
    pl.push("C++");
    pl.push("Java");
    pl.push("Python");

    cout << "Initial queue:" << endl;
    display(pl);  // Displaying the initial queue

    cout << endl;

    // Popping two elements from the original queue
    pl.pop();
    pl.pop();

    cout << "Final queue: \n";
    display(pl);  // Displaying the final queue after popping

    return 0;
}
